{
 "cells": [
  {
   "cell_type": "code",
   "execution_count": 25,
   "metadata": {},
   "outputs": [],
   "source": [
    "\n",
    "from typing import TypedDict, Optional, Dict, Any, List\n",
    "from langchain_core.tools import tool\n",
    "from langchain_ollama import ChatOllama\n",
    "import re\n",
    "import requests\n",
    "import json\n",
    "import dotenv\n",
    "from langchain_core.messages import SystemMessage, HumanMessage, ToolMessage, AIMessage\n",
    "from langgraph.graph import StateGraph, START, END\n",
    "from langgraph.graph.message import add_messages\n",
    "from IPython import display\n",
    "import os\n",
    "from langchain_core.prompts import ChatPromptTemplate, MessagesPlaceholder\n",
    "from langgraph.prebuilt import create_react_agent\n",
    "from langchain_core.output_parsers import StrOutputParser, BaseOutputParser, PydanticOutputParser, JsonOutputParser\n",
    "from pydantic import BaseModel, Field, model_validator\n",
    "import ollama\n",
    "from pathlib import Path\n",
    "import pandas as pd\n",
    "from datetime import datetime\n",
    "dotenv.load_dotenv()\n",
    "OPEN_WEATHER_API_KEY = os.getenv(\"OPEN_WEATHER_API_KEY\")\n",
    "TAVILY_API_KEY = os.getenv(\"TAVILY_API_KEY\")\n",
    "\n"
   ]
  },
  {
   "cell_type": "markdown",
   "metadata": {},
   "source": [
    "### Get downloaded models"
   ]
  },
  {
   "cell_type": "code",
   "execution_count": 11,
   "metadata": {},
   "outputs": [
    {
     "data": {
      "application/vnd.microsoft.datawrangler.viewer.v0+json": {
       "columns": [
        {
         "name": "index",
         "rawType": "int64",
         "type": "integer"
        },
        {
         "name": "model_name",
         "rawType": "object",
         "type": "string"
        },
        {
         "name": "model",
         "rawType": "object",
         "type": "string"
        },
        {
         "name": "parameters",
         "rawType": "object",
         "type": "string"
        }
       ],
       "conversionMethod": "pd.DataFrame",
       "ref": "8acd0350-dc0e-4d2c-bcf1-8b6f2f82197f",
       "rows": [
        [
         "0",
         "llama3",
         "llama3.1:latest",
         "8.0B"
        ],
        [
         "1",
         "codellama:7b",
         "codellama:7b",
         "7B"
        ],
        [
         "2",
         "llama3-uncensored",
         "artifish/llama3.2-uncensored:latest",
         "3.6B"
        ],
        [
         "3",
         "llama2-uncensored",
         "llama2-uncensored:latest",
         "7B"
        ],
        [
         "4",
         "tinyllama",
         "tinyllama:latest",
         "1B"
        ],
        [
         "5",
         "llama3:3b",
         "llama3.2:3b",
         "3.2B"
        ]
       ],
       "shape": {
        "columns": 3,
        "rows": 6
       }
      },
      "text/html": [
       "<div>\n",
       "<style scoped>\n",
       "    .dataframe tbody tr th:only-of-type {\n",
       "        vertical-align: middle;\n",
       "    }\n",
       "\n",
       "    .dataframe tbody tr th {\n",
       "        vertical-align: top;\n",
       "    }\n",
       "\n",
       "    .dataframe thead th {\n",
       "        text-align: right;\n",
       "    }\n",
       "</style>\n",
       "<table border=\"1\" class=\"dataframe\">\n",
       "  <thead>\n",
       "    <tr style=\"text-align: right;\">\n",
       "      <th></th>\n",
       "      <th>model_name</th>\n",
       "      <th>model</th>\n",
       "      <th>parameters</th>\n",
       "    </tr>\n",
       "  </thead>\n",
       "  <tbody>\n",
       "    <tr>\n",
       "      <th>0</th>\n",
       "      <td>llama3</td>\n",
       "      <td>llama3.1:latest</td>\n",
       "      <td>8.0B</td>\n",
       "    </tr>\n",
       "    <tr>\n",
       "      <th>1</th>\n",
       "      <td>codellama:7b</td>\n",
       "      <td>codellama:7b</td>\n",
       "      <td>7B</td>\n",
       "    </tr>\n",
       "    <tr>\n",
       "      <th>2</th>\n",
       "      <td>llama3-uncensored</td>\n",
       "      <td>artifish/llama3.2-uncensored:latest</td>\n",
       "      <td>3.6B</td>\n",
       "    </tr>\n",
       "    <tr>\n",
       "      <th>3</th>\n",
       "      <td>llama2-uncensored</td>\n",
       "      <td>llama2-uncensored:latest</td>\n",
       "      <td>7B</td>\n",
       "    </tr>\n",
       "    <tr>\n",
       "      <th>4</th>\n",
       "      <td>tinyllama</td>\n",
       "      <td>tinyllama:latest</td>\n",
       "      <td>1B</td>\n",
       "    </tr>\n",
       "    <tr>\n",
       "      <th>5</th>\n",
       "      <td>llama3:3b</td>\n",
       "      <td>llama3.2:3b</td>\n",
       "      <td>3.2B</td>\n",
       "    </tr>\n",
       "  </tbody>\n",
       "</table>\n",
       "</div>"
      ],
      "text/plain": [
       "          model_name                                model parameters\n",
       "0             llama3                      llama3.1:latest       8.0B\n",
       "1       codellama:7b                         codellama:7b         7B\n",
       "2  llama3-uncensored  artifish/llama3.2-uncensored:latest       3.6B\n",
       "3  llama2-uncensored             llama2-uncensored:latest         7B\n",
       "4          tinyllama                     tinyllama:latest         1B\n",
       "5          llama3:3b                          llama3.2:3b       3.2B"
      ]
     },
     "execution_count": 11,
     "metadata": {},
     "output_type": "execute_result"
    }
   ],
   "source": [
    "ollama_models = ollama.list()\n",
    "models = {}\n",
    "for model in ollama_models['models']:\n",
    "    # get simple model name\n",
    "    model_name = model['model'].split('/')[-1]\n",
    "    # remove version after .\n",
    "    model_name = re.sub(r'\\.\\d+', '', model_name).replace(\":latest\", \"\")\n",
    "\n",
    "    models[model_name] = {\n",
    "        \"name\": model['model'],\n",
    "        \"parameters\": model.details.parameter_size\n",
    "\n",
    "    }\n",
    "models\n",
    "\n",
    "# create a dataframe with model_name, model, and parameters\n",
    "df = pd.DataFrame(models).T\n",
    "df = df.reset_index()\n",
    "df.columns = ['model_name', 'model', 'parameters']\n",
    "df"
   ]
  },
  {
   "cell_type": "markdown",
   "metadata": {},
   "source": [
    "## AgentExecutor (LangGraph)"
   ]
  },
  {
   "cell_type": "code",
   "execution_count": 32,
   "metadata": {},
   "outputs": [],
   "source": [
    "\n",
    "from langchain_community.tools import TavilySearchResults\n",
    "from langchain.agents import  create_tool_calling_agent\n",
    "\n",
    "llm = ChatOllama(\n",
    "    model=models['llama3:3b']['name'],\n",
    "    temperature=0.5\n",
    ")\n",
    "\n",
    "prompt = ChatPromptTemplate.from_messages(\n",
    "    messages=[\n",
    "    (\"system\", \"\"\"You are a helpful AI assistant that answers questions precisely.\"\"\"), \n",
    "    MessagesPlaceholder(variable_name='chat_history'),\n",
    "    (\"user\", \"{prompt}\"), \n",
    "    MessagesPlaceholder(variable_name='agent_scratchpad')\n",
    "\n",
    "])\n",
    "\n",
    "tools = [TavilySearchResults(max_results=2)]\n",
    "\n",
    "agent = create_tool_calling_agent(llm, tools, prompt=prompt)\n",
    "\n",
    "display_png(agent.get_graph().draw_mermaid_png())"
   ]
  },
  {
   "cell_type": "markdown",
   "metadata": {},
   "source": []
  },
  {
   "cell_type": "code",
   "execution_count": null,
   "metadata": {},
   "outputs": [],
   "source": []
  }
 ],
 "metadata": {
  "kernelspec": {
   "display_name": ".venv",
   "language": "python",
   "name": "python3"
  },
  "language_info": {
   "codemirror_mode": {
    "name": "ipython",
    "version": 3
   },
   "file_extension": ".py",
   "mimetype": "text/x-python",
   "name": "python",
   "nbconvert_exporter": "python",
   "pygments_lexer": "ipython3",
   "version": "3.12.9"
  }
 },
 "nbformat": 4,
 "nbformat_minor": 2
}
